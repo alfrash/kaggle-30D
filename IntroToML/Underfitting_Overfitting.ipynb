{
 "cells": [
  {
   "cell_type": "markdown",
   "source": [
    "\n",
    "\n",
    "- Overfitting: capturing spurious patterns that won't recur in the future, leading to less accurate predictions, or\n",
    "- Underfitting: failing to capture relevant patterns, again leading to less accurate predictions."
   ],
   "metadata": {}
  },
  {
   "cell_type": "code",
   "execution_count": 2,
   "source": [
    "import pandas as pd\n",
    "from sklearn.model_selection import train_test_split\n",
    "from sklearn.metrics import mean_absolute_error\n",
    "from sklearn.tree import DecisionTreeRegressor\n"
   ],
   "outputs": [],
   "metadata": {}
  },
  {
   "cell_type": "code",
   "execution_count": 3,
   "source": [
    "dataFilePath = \"../input/melb_data.csv\"\n",
    "data = pd.read_csv(dataFilePath)\n",
    "filteredData = data.dropna(axis=0)\n",
    "y = filteredData.Price\n",
    "features = ['Rooms', 'Bathroom', 'Landsize', 'BuildingArea', 'YearBuilt', 'Lattitude', 'Longtitude']\n",
    "x = filteredData[features]\n",
    "train_x, val_x, train_y, val_y = train_test_split(x, y, random_state=0)"
   ],
   "outputs": [],
   "metadata": {}
  },
  {
   "cell_type": "code",
   "execution_count": 4,
   "source": [
    "def getMae(maxLeafNodes, train_x, val_x, train_y, val_y):\n",
    "    model = DecisionTreeRegressor(max_leaf_nodes=maxLeafNodes, random_state=0)\n",
    "    model.fit(train_x, train_y)\n",
    "    predectionValue = model.predict(val_x)\n",
    "    mea = mean_absolute_error(val_y, predectionValue)\n",
    "    return mea"
   ],
   "outputs": [],
   "metadata": {}
  },
  {
   "cell_type": "code",
   "execution_count": 5,
   "source": [
    "# compare MAE with differing values of max_leaf_nodes\n",
    "for maxLeafNodes in [5, 50, 500, 5000]:\n",
    "    myMae = getMae(maxLeafNodes, train_x, val_x, train_y, val_y)\n",
    "    print(\"Max leaf nodes: %d  \\t\\t Mean Absolute Error:  %d\" %(maxLeafNodes, myMae))"
   ],
   "outputs": [
    {
     "output_type": "stream",
     "name": "stdout",
     "text": [
      "Max leaf nodes: 5  \t\t Mean Absolute Error:  347380\n",
      "Max leaf nodes: 50  \t\t Mean Absolute Error:  258171\n",
      "Max leaf nodes: 500  \t\t Mean Absolute Error:  243495\n",
      "Max leaf nodes: 5000  \t\t Mean Absolute Error:  254983\n"
     ]
    }
   ],
   "metadata": {}
  }
 ],
 "metadata": {
  "orig_nbformat": 4,
  "language_info": {
   "name": "python",
   "version": "3.9.6",
   "mimetype": "text/x-python",
   "codemirror_mode": {
    "name": "ipython",
    "version": 3
   },
   "pygments_lexer": "ipython3",
   "nbconvert_exporter": "python",
   "file_extension": ".py"
  },
  "kernelspec": {
   "name": "python3",
   "display_name": "Python 3.9.6 64-bit"
  },
  "interpreter": {
   "hash": "72eedf926b0345134fbcc9408850f253470634c84625977348e016b921cb6f8d"
  }
 },
 "nbformat": 4,
 "nbformat_minor": 2
}